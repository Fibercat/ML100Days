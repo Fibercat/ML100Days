{
 "cells": [
  {
   "cell_type": "markdown",
   "metadata": {
    "colab_type": "text",
    "id": "J4hOkp1qED2I"
   },
   "source": [
    "# 作業目標: 利用正規表達式達到預期配對\n",
    "本次作業將以互動式網站[Regex101](https://regex101.com/)來做練習，請將所需配對文本複製貼上到Regex101的**TEST STRING**區塊來做練習"
   ]
  },
  {
   "cell_type": "code",
   "execution_count": 1,
   "metadata": {},
   "outputs": [],
   "source": [
    "import re"
   ]
  },
  {
   "cell_type": "markdown",
   "metadata": {
    "colab_type": "text",
    "id": "c3UV7f0aED2K"
   },
   "source": [
    "### HW1: 電話號碼配對\n",
    "\n",
    "抓出在電話號碼的所在地區以及號碼\n",
    "\n",
    "```\n",
    "ex: 02-33334444 --> 配對02, 33334444\n",
    "```\n",
    "\n",
    "\n",
    "**所需配對文本:**\n",
    "```\n",
    "02-27208889\n",
    "04-2220-3585\n",
    "(06)-2991111\n",
    "(07)799-5678\n",
    "```\n",
    "\n",
    "**應配對出的結果為**\n",
    "```\n",
    "02, 27208889\n",
    "04, 22203585\n",
    "06, 2991111\n",
    "07, 7995678\n",
    "```"
   ]
  },
  {
   "cell_type": "code",
   "execution_count": 2,
   "metadata": {},
   "outputs": [
    {
     "name": "stdout",
     "output_type": "stream",
     "text": [
      "02-27208889\n",
      "04-2220-3585\n",
      "(06)-2991111\n",
      "(07)799-5678\n"
     ]
    }
   ],
   "source": [
    "txt1 = ['02-27208889','04-2220-3585','(06)-2991111','(07)799-5678']\n",
    "for _ in txt1: print(_)"
   ]
  },
  {
   "cell_type": "code",
   "execution_count": 3,
   "metadata": {},
   "outputs": [
    {
     "name": "stdout",
     "output_type": "stream",
     "text": [
      "02 is matched, txt: 02-27208889\n",
      "04 is matched, txt: 04-2220-3585\n",
      "06 is matched, txt: (06)-2991111\n",
      "07 is matched, txt: (07)799-5678\n"
     ]
    }
   ],
   "source": [
    "pattern1 = r\"\\d+\"\n",
    "for i in txt1:\n",
    "    res = re.search(pattern1,i)\n",
    "    if res is not None:\n",
    "        print(f'{res.group()} is matched, txt: {i}')"
   ]
  },
  {
   "cell_type": "markdown",
   "metadata": {
    "colab_type": "text",
    "id": "K2LlVBEJED2M"
   },
   "source": [
    "### HW2: 身分證字號配對\n",
    "請配對出找出桃園(H), 台南(D), 嘉義(Q)中為男生的身分證字號(數字為1開頭)\n",
    "\n",
    "**所需配對文本:**\n",
    "```\n",
    "A121040176\n",
    "L186856359\n",
    "Z127598010\n",
    "I114537095\n",
    "D279884447\n",
    "L186834359\n",
    "D243736345\n",
    "I114537095\n",
    "Q146110887\n",
    "D187217314\n",
    "I114537095\n",
    "Q243556025\n",
    "Z127598010\n",
    "H250077453\n",
    "Q188367037\n",
    "```\n",
    "\n",
    "**應配對出的結果為**\n",
    "```\n",
    "D279884447\n",
    "D243736345\n",
    "Q243556025\n",
    "H250077453\n",
    "\n",
    "```"
   ]
  },
  {
   "cell_type": "code",
   "execution_count": 4,
   "metadata": {},
   "outputs": [
    {
     "name": "stdout",
     "output_type": "stream",
     "text": [
      "A121040176\n",
      "L186856359\n",
      "Z127598010\n",
      "I114537095\n",
      "D279884447\n",
      "L186834359\n",
      "D243736345\n",
      "I114537095\n",
      "Q146110887\n",
      "D187217314\n",
      "I114537095\n",
      "Q243556025\n",
      "Z127598010\n",
      "H250077453\n",
      "Q188367037\n"
     ]
    }
   ],
   "source": [
    "txt2 = ['A121040176','L186856359','Z127598010','I114537095','D279884447',\n",
    "        'L186834359','D243736345','I114537095','Q146110887','D187217314',\n",
    "        'I114537095','Q243556025','Z127598010','H250077453','Q188367037']\n",
    "\n",
    "for _ in txt2: print(_)"
   ]
  },
  {
   "cell_type": "code",
   "execution_count": 5,
   "metadata": {},
   "outputs": [
    {
     "name": "stdout",
     "output_type": "stream",
     "text": [
      "Q146110887 is matched, txt: Q146110887\n",
      "D187217314 is matched, txt: D187217314\n",
      "Q188367037 is matched, txt: Q188367037\n"
     ]
    }
   ],
   "source": [
    "pattern2 = r\"[H,D,Q]1\\d{8}\"\n",
    "for i in txt2:\n",
    "    res = re.search(pattern2,i)\n",
    "    if res is not None:\n",
    "        print(f'{res.group()} is matched, txt: {i}')"
   ]
  },
  {
   "cell_type": "markdown",
   "metadata": {},
   "source": [
    "原解答錯誤"
   ]
  },
  {
   "cell_type": "markdown",
   "metadata": {
    "colab_type": "text",
    "id": "E7fHH1F3ED2O"
   },
   "source": [
    "### HW3: 電子郵件配對\n",
    "請抓出@前面的帳戶名稱，且請排除gmail的信箱\n",
    "\n",
    "**所需配對文本:**\n",
    "```\n",
    "foobar@gmail.com\n",
    "NoOneCareMe@gamil.com\n",
    "SaveTheWorld@hotmail.com\n",
    "zzzGroup@yahoo.com\n",
    "eagle1963@gmail.com\n",
    "maythefourthwithyiu@starwars.com\n",
    "```\n",
    "\n",
    "**應配對出的結果為**\n",
    "```\n",
    "SaveTheWorld@hotmail.com\n",
    "zzzGroup@yahoo.com\n",
    "maythefourthwithyiu@starwars.com\n",
    "```"
   ]
  },
  {
   "cell_type": "code",
   "execution_count": 6,
   "metadata": {},
   "outputs": [
    {
     "name": "stdout",
     "output_type": "stream",
     "text": [
      "foobar@gmail.com\n",
      "NoOneCareMe@gamil.com\n",
      "SaveTheWorld@hotmail.com\n",
      "zzzGroup@yahoo.com\n",
      "eagle1963@gmail.com\n",
      "maythefourthwithyiu@starwars.com\n"
     ]
    }
   ],
   "source": [
    "txt3 = [\n",
    "'foobar@gmail.com'\n",
    ",'NoOneCareMe@gamil.com'\n",
    ",'SaveTheWorld@hotmail.com'\n",
    ",'zzzGroup@yahoo.com'\n",
    ",'eagle1963@gmail.com'\n",
    ",'maythefourthwithyiu@starwars.com'\n",
    "]\n",
    "for _ in txt3: print(_)"
   ]
  },
  {
   "cell_type": "code",
   "execution_count": 7,
   "metadata": {},
   "outputs": [
    {
     "name": "stdout",
     "output_type": "stream",
     "text": [
      "Matched: NoOneCareMe@gamil.com\n",
      "txt: NoOneCareMe@gamil.com\n",
      "\n",
      "Matched: SaveTheWorld@hotmail.com\n",
      "txt: SaveTheWorld@hotmail.com\n",
      "\n",
      "Matched: zzzGroup@yahoo.com\n",
      "txt: zzzGroup@yahoo.com\n",
      "\n",
      "Matched: maythefourthwithyiu@starwars.com\n",
      "txt: maythefourthwithyiu@starwars.com\n",
      "\n"
     ]
    }
   ],
   "source": [
    "pattern3 = r\".+@(?!gmail)\\w+\\.com\"\n",
    "\n",
    "for i in txt3:\n",
    "    res = re.search(pattern3,i)\n",
    "    if res is not None:\n",
    "        print('Matched: ' + res.group())\n",
    "        print('txt: ' + i)\n",
    "        print()"
   ]
  },
  {
   "cell_type": "markdown",
   "metadata": {},
   "source": [
    "原解答為：\"(.*)@(?!gmail)\\w+\\.com\"，但 txt3中有 \"gamil\"，故gamil會被配對到"
   ]
  },
  {
   "cell_type": "markdown",
   "metadata": {
    "colab_type": "text",
    "id": "peEQ7rNkED2P"
   },
   "source": [
    "### HW4: HTML格式配對\n",
    "\n",
    "請抓出<TAG>當中的Tag就好，裡面的屬性請排除。\n",
    "\n",
    "```\n",
    "ex: <p class='test'> --> 抓出 p\n",
    "```\n",
    "\n",
    "**所需配對文本:**\n",
    "```\n",
    "<h1>This is a header 1</h1>\n",
    "<a>This is a hyperlink</a>\n",
    "<div class='test'>This is a text block</div>\n",
    "<a href=\"https://regexisfun.com.tw/\">Learning Regular Expression<a>\n",
    "```\n",
    "\n",
    "**應配對出的結果為**\n",
    "```\n",
    "h1\n",
    "a\n",
    "div\n",
    "a\n",
    "```"
   ]
  },
  {
   "cell_type": "code",
   "execution_count": 8,
   "metadata": {},
   "outputs": [
    {
     "name": "stdout",
     "output_type": "stream",
     "text": [
      "<h1>This is a header 1</h1>\n",
      "<a>This is a hyperlink</a>\n",
      "<div class='test'>This is a text block</div>\n",
      "<a href=\"https://regexisfun.com.tw/\">Learning Regular Expression<a>\n"
     ]
    }
   ],
   "source": [
    "txt4=[\n",
    "'<h1>This is a header 1</h1>'\n",
    ",'<a>This is a hyperlink</a>'\n",
    ",\"<div class='test'>This is a text block</div>\"\n",
    ",'<a href=\"https://regexisfun.com.tw/\">Learning Regular Expression<a>'\n",
    "]\n",
    "for _ in txt4: print(_)"
   ]
  },
  {
   "cell_type": "code",
   "execution_count": 9,
   "metadata": {},
   "outputs": [
    {
     "name": "stdout",
     "output_type": "stream",
     "text": [
      "Matched: h1\n",
      "txt: <h1>This is a header 1</h1>\n",
      "\n",
      "Matched: a\n",
      "txt: <a>This is a hyperlink</a>\n",
      "\n",
      "Matched: div\n",
      "txt: <div class='test'>This is a text block</div>\n",
      "\n",
      "Matched: a\n",
      "txt: <a href=\"https://regexisfun.com.tw/\">Learning Regular Expression<a>\n",
      "\n"
     ]
    }
   ],
   "source": [
    "pattern4 = r\"(?<=<)(\\w+)\"\n",
    "\n",
    "for i in txt4:\n",
    "    res = re.search(pattern4,i)\n",
    "    if res is not None:\n",
    "        print('Matched: ' + res.group())\n",
    "        print('txt: ' + i)\n",
    "        print()"
   ]
  },
  {
   "cell_type": "markdown",
   "metadata": {
    "colab_type": "text",
    "id": "meXn3nd3ED2Q"
   },
   "source": [
    "### HW5: 特定檔案名稱與格式配對\n",
    "\n",
    "在所有檔案中，抓出屬於 gif 或 jpg 的檔名。\n",
    "\n",
    "\n",
    "**所需配對文本:**\n",
    "```\n",
    ".bash_profile\n",
    "workShop.ai\n",
    "file_folderName_num.jpg\n",
    "favicon.png\n",
    "IMG_002.png\n",
    "IMG_003.gif\n",
    "qoo.jpg.tmp\n",
    "index.html\n",
    "foobar.bmp\n",
    "foobar.jpg\n",
    "account.html\n",
    "access.lock\n",
    "```\n",
    "\n",
    "**應配對出的結果為**\n",
    "```\n",
    "IMG_003.gif\n",
    "file_folderName_num.jpg\n",
    "foobar.jpg\n",
    "```"
   ]
  },
  {
   "cell_type": "code",
   "execution_count": 10,
   "metadata": {},
   "outputs": [
    {
     "name": "stdout",
     "output_type": "stream",
     "text": [
      ".bash_profile\n",
      "workShop.ai\n",
      "file_folderName_num.jpg\n",
      "favicon.png\n",
      "IMG_002.png\n",
      "IMG_003.gif\n",
      "qoo.jpg.tmp\n",
      "index.html\n",
      "foobar.bmp\n",
      "foobar.jpg\n",
      "account.html\n",
      "access.lock\n"
     ]
    }
   ],
   "source": [
    "txt5=[\n",
    "'.bash_profile'\n",
    ",'workShop.ai'\n",
    ",'file_folderName_num.jpg'\n",
    ",'favicon.png'\n",
    ",'IMG_002.png'\n",
    ",'IMG_003.gif'\n",
    ",'qoo.jpg.tmp'\n",
    ",'index.html'\n",
    ",'foobar.bmp'\n",
    ",'foobar.jpg'\n",
    ",'account.html'\n",
    ",'access.lock'\n",
    "]\n",
    "for _ in txt5: print(_)"
   ]
  },
  {
   "cell_type": "code",
   "execution_count": 11,
   "metadata": {},
   "outputs": [
    {
     "name": "stdout",
     "output_type": "stream",
     "text": [
      "Matched: file_folderName_num.jpg\n",
      "txt: file_folderName_num.jpg\n",
      "Matched: IMG_003.gif\n",
      "txt: IMG_003.gif\n",
      "Matched: foobar.jpg\n",
      "txt: foobar.jpg\n"
     ]
    }
   ],
   "source": [
    "pattern5 = r\"\\w+\\.(gif|jpg)$\"\n",
    "\n",
    "for i in txt5:\n",
    "    res = re.search(pattern5,i)\n",
    "    if res is not None:\n",
    "        print('Matched: ' + res.group())\n",
    "        print('txt: ' + i)"
   ]
  },
  {
   "cell_type": "markdown",
   "metadata": {
    "colab_type": "text",
    "id": "k_bxKVCEED2S"
   },
   "source": [
    "### HW6: URL配對\n",
    "\n",
    "請抓出 Url 中的協定方式, 網址, 與埠\n",
    "\n",
    "```\n",
    "ex: Https://localhost:4200/ --> 抓取 Https, localhost, 4200\n",
    "```\n",
    "\n",
    "**所需配對文本:**\n",
    "```\n",
    "ftp://file_server.com:21/account/customers.xml\n",
    "https://hengxiuxu.blogspot.tw/\n",
    "file://localhost:4200\n",
    "https://s3cur3-server.com:9999/\n",
    "```\n",
    "\n",
    "**應配對出的結果為**\n",
    "```\n",
    "ftp, file_server, 21\n",
    "https, hengxiuxu.blogspot.tw\n",
    "file, localhost, 4200\n",
    "https, s3cur3-server.com, 9999\n",
    "```"
   ]
  },
  {
   "cell_type": "code",
   "execution_count": 12,
   "metadata": {},
   "outputs": [
    {
     "name": "stdout",
     "output_type": "stream",
     "text": [
      "ftp://file_server.com:21/account/customers.xml\n",
      "https://hengxiuxu.blogspot.tw/\n",
      "file://localhost:4200\n",
      "https://s3cur3-server.com:9999/\n"
     ]
    }
   ],
   "source": [
    "txt6 = ['ftp://file_server.com:21/account/customers.xml'\n",
    ",'https://hengxiuxu.blogspot.tw/'\n",
    ",'file://localhost:4200'\n",
    ",'https://s3cur3-server.com:9999/']\n",
    "for _ in txt6: print(_)"
   ]
  },
  {
   "cell_type": "code",
   "execution_count": 13,
   "metadata": {
    "colab": {},
    "colab_type": "code",
    "id": "MUZWslZIED2U"
   },
   "outputs": [
    {
     "name": "stdout",
     "output_type": "stream",
     "text": [
      "group1: ftp\n",
      "group2: file_server.com\n",
      "group3: 21\n",
      "\n",
      "group1: https\n",
      "group2: hengxiuxu.blogspot.tw\n",
      "group3: None\n",
      "\n",
      "group1: file\n",
      "group2: localhost\n",
      "group3: 4200\n",
      "\n",
      "group1: https\n",
      "group2: s3cur3-server.com\n",
      "group3: 9999\n",
      "\n"
     ]
    }
   ],
   "source": [
    "pattern6 = r\"(\\w+)://([^://]+):?(\\d+)?\"\n",
    "\n",
    "for i in txt6:\n",
    "    res = re.search(pattern6,i)\n",
    "    if res is not None:\n",
    "        print(f'group1: {res.group(1)}')\n",
    "        print(f'group2: {res.group(2)}')\n",
    "        print(f'group3: {res.group(3)}')\n",
    "        print()"
   ]
  },
  {
   "cell_type": "code",
   "execution_count": null,
   "metadata": {},
   "outputs": [],
   "source": []
  }
 ],
 "metadata": {
  "colab": {
   "name": "Day3_Regex_作業.ipynb",
   "provenance": []
  },
  "kernelspec": {
   "display_name": "Python 3",
   "language": "python",
   "name": "python3"
  },
  "language_info": {
   "codemirror_mode": {
    "name": "ipython",
    "version": 3
   },
   "file_extension": ".py",
   "mimetype": "text/x-python",
   "name": "python",
   "nbconvert_exporter": "python",
   "pygments_lexer": "ipython3",
   "version": "3.7.4"
  },
  "varInspector": {
   "cols": {
    "lenName": 16,
    "lenType": 16,
    "lenVar": 40
   },
   "kernels_config": {
    "python": {
     "delete_cmd_postfix": "",
     "delete_cmd_prefix": "del ",
     "library": "var_list.py",
     "varRefreshCmd": "print(var_dic_list())"
    },
    "r": {
     "delete_cmd_postfix": ") ",
     "delete_cmd_prefix": "rm(",
     "library": "var_list.r",
     "varRefreshCmd": "cat(var_dic_list()) "
    }
   },
   "types_to_exclude": [
    "module",
    "function",
    "builtin_function_or_method",
    "instance",
    "_Feature"
   ],
   "window_display": false
  }
 },
 "nbformat": 4,
 "nbformat_minor": 1
}
