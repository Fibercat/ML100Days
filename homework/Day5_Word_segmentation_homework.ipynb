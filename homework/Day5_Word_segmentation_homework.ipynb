{
 "cells": [
  {
   "cell_type": "markdown",
   "metadata": {},
   "source": [
    "## 作業目標: 了解斷詞演算法的背後計算"
   ]
  },
  {
   "cell_type": "markdown",
   "metadata": {},
   "source": [
    "### 根據課程講述的內容, 請計算出下列剩餘所有情況的\n",
    "若有一個人連續觀察到三天水草都是乾燥的(Dry), 則這三天的天氣機率為何？(可參考講義第13頁)\n",
    "(Hint: 共有8種可能機率)\n",
    "\n",
    "```python\n",
    "states = ('sunny', 'rainy')\n",
    "observations = ('dry', 'damp', 'soggy')\n",
    "start_probability = {'sunny': 0.4, 'rainy': 0.6}\n",
    "transition_probability = {'sunny':{'sunny':0.6, 'rainy':0.4},\n",
    "                          'rainy': {'sunny':0.3, 'rainy':0.7}}\n",
    "emission_probatility = {'sunny': {'dry':0.6, 'damp':0.3, 'soggy':0.1},\n",
    "                        'rainy': {'dry':0.1, 'damp':0.4, 'soggy':0.5}}\n",
    "```"
   ]
  },
  {
   "cell_type": "markdown",
   "metadata": {},
   "source": [
    "```\n",
    "觀察狀態 = 'dry', 'dry', 'dry'\n",
    "Sunny, Sunny, Sunny: 0.4*(0.6)*0.6*(0.6)*0.6*(0.6) = 0.031104\n",
    "Rainy, Sunny, Sunny: 0.6*(0.1)*0.3*(0.6)*0.6*(0.6) = 0.003888\n",
    "###<your answers>###\n",
    "\n",
    "最大機率為: Sunny, Sunny, Sunny\n",
    "```"
   ]
  },
  {
   "cell_type": "markdown",
   "metadata": {},
   "source": [
    "### 根據上述條件, 寫出Viterbi應用程式"
   ]
  },
  {
   "cell_type": "code",
   "execution_count": 1,
   "metadata": {},
   "outputs": [],
   "source": [
    "observations = ('dry', 'dry', 'dry') #實際上觀察到的狀態為dry, dry, dry\n",
    "states = ('sunny', 'rainy')\n",
    "start_probability = {'sunny': 0.4, 'rainy': 0.6}\n",
    "transition_probability = {'sunny':{'sunny':0.6, 'rainy':0.4},\n",
    "                          'rainy': {'sunny':0.3, 'rainy':0.7}}\n",
    "emission_probatility = {'sunny': {'dry':0.6, 'damp':0.3, 'soggy':0.1},\n",
    "                        'rainy': {'dry':0.1, 'damp':0.4, 'soggy':0.5}}"
   ]
  },
  {
   "cell_type": "code",
   "execution_count": 2,
   "metadata": {},
   "outputs": [],
   "source": [
    "# obs: 觀察狀態，states: 隱藏狀態，start_p: 初始機率矩陣，trans_p: 狀態轉移機率矩陣，emit_p: 發射機率矩陣\n",
    "\n",
    "def viterbi(obs, states, start_p, trans_p, emit_p):\n",
    "    # 紀錄每個states最大機率路徑的機率\n",
    "    V = [{}]\n",
    "    # 紀錄每個states最大機率路徑\n",
    "    path = {}\n",
    "\n",
    "    # Initialize base cases (t == 0)\n",
    "    for y in states:\n",
    "        # 第一個states的發生機率為初始機率 * 隱藏狀態的發射機率\n",
    "        V[0][y] = start_p[y] * emit_p[y][obs[0]]\n",
    "        path[y] = [y]\n",
    "        print(f'第一天天氣為：{y}, 初始機率為：{V[0][y]}, 路徑為：{path[y]}')\n",
    "        \n",
    "    # Run Viterbi for t > 0\n",
    "    for t in range(1,len(obs)):\n",
    "        print(f'next obs={t}' )\n",
    "        V.append({})\n",
    "        newpath={}\n",
    "        \n",
    "        for curr_state in states:\n",
    "            prob_list = []\n",
    "            for pre_state in states:\n",
    "                curr_state_prob = V[t-1][pre_state] * trans_p[pre_state][curr_state] * emit_p[curr_state][obs[t]]\n",
    "                prob_list.append((pre_state,curr_state_prob))\n",
    "            \n",
    "            V[t][curr_state] = max(prob_list)[1]\n",
    "            newpath[curr_state] = path[max(prob_list)[0]] + [curr_state]\n",
    "            print(f'若今天天氣：{curr_state}，較有可能為：{newpath[curr_state]}，機率為：{V[t][curr_state]}')\n",
    "            \n",
    "        # Don't need to remember the old paths\n",
    "        path = newpath\n",
    "\n",
    "    print()\n",
    "    print(f'紀錄每個states最大機率路徑的機率：{V}')\n",
    "    print()\n",
    "    print(f'紀錄每個states最大機率路徑：{path}')\n",
    "    \n",
    "    # 取最後一個較大機率的 V值，即為最大機率路徑的機率\n",
    "    (prob, state) = max([(V[len(obs) - 1][final_state], final_state) for final_state in states])\n",
    "    \n",
    "    return (prob, path[state])"
   ]
  },
  {
   "cell_type": "code",
   "execution_count": 3,
   "metadata": {},
   "outputs": [
    {
     "name": "stdout",
     "output_type": "stream",
     "text": [
      "第一天天氣為：sunny, 初始機率為：0.24, 路徑為：['sunny']\n",
      "第一天天氣為：rainy, 初始機率為：0.06, 路徑為：['rainy']\n",
      "next obs=1\n",
      "若今天天氣：sunny，較有可能為：['sunny', 'sunny']，機率為：0.08639999999999999\n",
      "若今天天氣：rainy，較有可能為：['sunny', 'rainy']，機率為：0.009600000000000001\n",
      "next obs=2\n",
      "若今天天氣：sunny，較有可能為：['sunny', 'sunny', 'sunny']，機率為：0.031103999999999993\n",
      "若今天天氣：rainy，較有可能為：['sunny', 'sunny', 'rainy']，機率為：0.0034560000000000003\n",
      "\n",
      "紀錄每個states最大機率路徑的機率：[{'sunny': 0.24, 'rainy': 0.06}, {'sunny': 0.08639999999999999, 'rainy': 0.009600000000000001}, {'sunny': 0.031103999999999993, 'rainy': 0.0034560000000000003}]\n",
      "\n",
      "紀錄每個states最大機率路徑：{'sunny': ['sunny', 'sunny', 'sunny'], 'rainy': ['sunny', 'sunny', 'rainy']}\n"
     ]
    }
   ],
   "source": [
    "result = viterbi(observations,\n",
    "                 states,\n",
    "                 start_probability,\n",
    "                 transition_probability,\n",
    "                 emission_probatility)"
   ]
  },
  {
   "cell_type": "code",
   "execution_count": 4,
   "metadata": {},
   "outputs": [
    {
     "data": {
      "text/plain": [
       "(0.031103999999999993, ['sunny', 'sunny', 'sunny'])"
      ]
     },
     "execution_count": 4,
     "metadata": {},
     "output_type": "execute_result"
    }
   ],
   "source": [
    "result"
   ]
  }
 ],
 "metadata": {
  "kernelspec": {
   "display_name": "Python 3",
   "language": "python",
   "name": "python3"
  },
  "language_info": {
   "codemirror_mode": {
    "name": "ipython",
    "version": 3
   },
   "file_extension": ".py",
   "mimetype": "text/x-python",
   "name": "python",
   "nbconvert_exporter": "python",
   "pygments_lexer": "ipython3",
   "version": "3.7.4"
  },
  "varInspector": {
   "cols": {
    "lenName": 16,
    "lenType": 16,
    "lenVar": 40
   },
   "kernels_config": {
    "python": {
     "delete_cmd_postfix": "",
     "delete_cmd_prefix": "del ",
     "library": "var_list.py",
     "varRefreshCmd": "print(var_dic_list())"
    },
    "r": {
     "delete_cmd_postfix": ") ",
     "delete_cmd_prefix": "rm(",
     "library": "var_list.r",
     "varRefreshCmd": "cat(var_dic_list()) "
    }
   },
   "types_to_exclude": [
    "module",
    "function",
    "builtin_function_or_method",
    "instance",
    "_Feature"
   ],
   "window_display": false
  }
 },
 "nbformat": 4,
 "nbformat_minor": 2
}
