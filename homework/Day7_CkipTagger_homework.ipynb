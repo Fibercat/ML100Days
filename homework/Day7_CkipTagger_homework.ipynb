{
 "cells": [
  {
   "cell_type": "markdown",
   "metadata": {},
   "source": [
    "### 作業目標: 使用Jieba進行各項的斷詞操作"
   ]
  },
  {
   "cell_type": "markdown",
   "metadata": {},
   "source": [
    "### Import 所需 libraries"
   ]
  },
  {
   "cell_type": "code",
   "execution_count": 1,
   "metadata": {},
   "outputs": [],
   "source": [
    "#導入所需libraries\n",
    "#請import 1.可用於下載權重的library 2.建構自定義字典的library 3.斷詞, 詞性標注,與命名實體辨識libries\n",
    "from ckiptagger import data_utils, construct_dictionary, WS, POS, NER\n",
    "\n",
    "\n",
    "#請對下列文本字串進行斷詞, 詞性標注, 命名實體識別\n",
    "\n",
    "sentence_list = [\n",
    "    \"傅達仁今將執行安樂死，卻突然爆出自己20年前遭緯來體育台封殺，他不懂自己哪裡得罪到電視台。\",\n",
    "    \"美國參議院針對今天總統布什所提名的勞工部長趙小蘭展開認可聽證會，預料她將會很順利通過參議院支持，成為該國有史以來第一位的華裔女性內閣成員。\",\n",
    "    \"\",\n",
    "    \"土地公有政策?？還是土地婆有政策。.\",\n",
    "    \"… 你確定嗎… 不要再騙了……\",\n",
    "    \"最多容納59,000個人,或5.9萬人,再多就不行了.這是環評的結論.\",\n",
    "    \"科長說:1,坪數對人數為1:3。2,可以再增加。\",\n",
    "]"
   ]
  },
  {
   "cell_type": "markdown",
   "metadata": {},
   "source": [
    "### 進行斷詞, 詞性標注, 與命名實體識別"
   ]
  },
  {
   "cell_type": "code",
   "execution_count": 2,
   "metadata": {},
   "outputs": [],
   "source": [
    "#創建實例\n",
    "ws = WS(\"./data/\")\n",
    "pos = POS(\"./data/\")\n",
    "ner = NER(\"./data/\")"
   ]
  },
  {
   "cell_type": "code",
   "execution_count": 3,
   "metadata": {},
   "outputs": [
    {
     "name": "stdout",
     "output_type": "stream",
     "text": [
      "斷詞輸出: [['傅達仁', '今', '將', '執行', '安樂死', '，', '卻', '突然', '爆出', '自己', '20', '年', '前', '遭', '緯來', '體育台', '封殺', '，', '他', '不', '懂', '自己', '哪裡', '得罪到', '電視台', '。'], ['美國', '參議院', '針對', '今天', '總統', '布什', '所', '提名', '的', '勞工部長', '趙小蘭', '展開', '認可', '聽證會', '，', '預料', '她', '將', '會', '很', '順利', '通過', '參議院', '支持', '，', '成為', '該', '國', '有史以來', '第一', '位', '的', '華裔', '女性', '內閣', '成員', '。'], [], ['土地公', '有', '政策', '?', '？', '還是', '土地', '婆', '有', '政策', '。', '.'], ['…', ' ', '你', '確定', '嗎', '…', ' ', '不要', '再', '騙', '了', '…', '…'], ['最多', '容納', '59,000', '個', '人', ',', '或', '5.9萬', '人', ',', '再', '多', '就', '不行', '了', '.', '這', '是', '環評', '的', '結論', '.'], ['科長', '說', ':1,', '坪數', '對', '人數', '為', '1:3', '。', '2', ',', '可以', '再', '增加', '。']]\n"
     ]
    }
   ],
   "source": [
    "#斷詞\n",
    "word_s = ws(sentence_list)\n",
    "print(f'斷詞輸出: {word_s}')"
   ]
  },
  {
   "cell_type": "code",
   "execution_count": 4,
   "metadata": {},
   "outputs": [
    {
     "name": "stdout",
     "output_type": "stream",
     "text": [
      "詞性標注輸出: [['Nb', 'Nd', 'D', 'VC', 'Na', 'COMMACATEGORY', 'D', 'D', 'VJ', 'Nh', 'Neu', 'Nf', 'Ng', 'P', 'Nb', 'Na', 'VC', 'COMMACATEGORY', 'Nh', 'D', 'VK', 'Nh', 'Ncd', 'VJ', 'Nc', 'PERIODCATEGORY'], ['Nc', 'Nc', 'P', 'Nd', 'Na', 'Nb', 'D', 'VC', 'DE', 'Na', 'Nb', 'VC', 'VC', 'Na', 'COMMACATEGORY', 'VE', 'Nh', 'D', 'D', 'Dfa', 'VH', 'VC', 'Nc', 'VC', 'COMMACATEGORY', 'VG', 'Nes', 'Nc', 'D', 'Neu', 'Nf', 'DE', 'Na', 'Na', 'Na', 'Na', 'PERIODCATEGORY'], [], ['Nb', 'V_2', 'Na', 'QUESTIONCATEGORY', 'QUESTIONCATEGORY', 'Caa', 'Na', 'Na', 'V_2', 'Na', 'PERIODCATEGORY', 'PERIODCATEGORY'], ['ETCCATEGORY', 'WHITESPACE', 'Nh', 'VK', 'T', 'ETCCATEGORY', 'WHITESPACE', 'D', 'D', 'VC', 'Di', 'ETCCATEGORY', 'ETCCATEGORY'], ['VH', 'VJ', 'Neu', 'Nf', 'Na', 'COMMACATEGORY', 'Caa', 'Neu', 'Na', 'COMMACATEGORY', 'D', 'D', 'D', 'VH', 'T', 'PERIODCATEGORY', 'Nep', 'SHI', 'Na', 'DE', 'Na', 'PERIODCATEGORY'], ['Na', 'VE', 'Neu', 'Na', 'P', 'Na', 'VG', 'Neu', 'PERIODCATEGORY', 'Neu', 'COMMACATEGORY', 'D', 'D', 'VHC', 'PERIODCATEGORY']]\n"
     ]
    }
   ],
   "source": [
    "#詞性標注\n",
    "word_p = pos(word_s)\n",
    "print(f'詞性標注輸出: {word_p}')"
   ]
  },
  {
   "cell_type": "code",
   "execution_count": 5,
   "metadata": {
    "scrolled": true
   },
   "outputs": [
    {
     "name": "stdout",
     "output_type": "stream",
     "text": [
      "命名實體識別輸出: [{(18, 22, 'DATE', '20年前'), (0, 3, 'PERSON', '傅達仁'), (23, 28, 'ORG', '緯來體育台')}, {(17, 21, 'ORG', '勞工部長'), (42, 45, 'ORG', '參議院'), (60, 62, 'NORP', '華裔'), (56, 58, 'ORDINAL', '第一'), (11, 13, 'PERSON', '布什'), (0, 2, 'GPE', '美國'), (2, 5, 'ORG', '參議院'), (7, 9, 'DATE', '今天'), (21, 24, 'PERSON', '趙小蘭')}, set(), {(0, 3, 'PERSON', '土地公')}, set(), {(4, 10, 'CARDINAL', '59,000'), (14, 18, 'CARDINAL', '5.9萬')}, {(12, 13, 'CARDINAL', '1'), (4, 6, 'CARDINAL', '1,'), (16, 17, 'CARDINAL', '2'), (14, 15, 'CARDINAL', '3')}]\n"
     ]
    }
   ],
   "source": [
    "#命名實體識別\n",
    "word_n = ner(word_s, word_p)\n",
    "print(f'命名實體識別輸出: {word_n}')"
   ]
  },
  {
   "cell_type": "code",
   "execution_count": 6,
   "metadata": {},
   "outputs": [
    {
     "name": "stdout",
     "output_type": "stream",
     "text": [
      "Input sentence: \n",
      " 傅達仁今將執行安樂死，卻突然爆出自己20年前遭緯來體育台封殺，他不懂自己哪裡得罪到電視台。\n",
      "\n",
      "\n",
      "Segmentation with PoS: \n",
      "\n",
      "傅達仁(Nb)\n",
      "今(Nd)\n",
      "將(D)\n",
      "執行(VC)\n",
      "安樂死(Na)\n",
      "，(COMMACATEGORY)\n",
      "卻(D)\n",
      "突然(D)\n",
      "爆出(VJ)\n",
      "自己(Nh)\n",
      "20(Neu)\n",
      "年(Nf)\n",
      "前(Ng)\n",
      "遭(P)\n",
      "緯來(Nb)\n",
      "體育台(Na)\n",
      "封殺(VC)\n",
      "，(COMMACATEGORY)\n",
      "他(Nh)\n",
      "不(D)\n",
      "懂(VK)\n",
      "自己(Nh)\n",
      "哪裡(Ncd)\n",
      "得罪到(VJ)\n",
      "電視台(Nc)\n",
      "。(PERIODCATEGORY)\n",
      "\n",
      "\n",
      "Named Entity Recognition:\n",
      "(0, 3, 'PERSON', '傅達仁')\n",
      "(18, 22, 'DATE', '20年前')\n",
      "(23, 28, 'ORG', '緯來體育台')\n",
      "\n",
      "\n",
      "Input sentence: \n",
      " 美國參議院針對今天總統布什所提名的勞工部長趙小蘭展開認可聽證會，預料她將會很順利通過參議院支持，成為該國有史以來第一位的華裔女性內閣成員。\n",
      "\n",
      "\n",
      "Segmentation with PoS: \n",
      "\n",
      "美國(Nc)\n",
      "參議院(Nc)\n",
      "針對(P)\n",
      "今天(Nd)\n",
      "總統(Na)\n",
      "布什(Nb)\n",
      "所(D)\n",
      "提名(VC)\n",
      "的(DE)\n",
      "勞工部長(Na)\n",
      "趙小蘭(Nb)\n",
      "展開(VC)\n",
      "認可(VC)\n",
      "聽證會(Na)\n",
      "，(COMMACATEGORY)\n",
      "預料(VE)\n",
      "她(Nh)\n",
      "將(D)\n",
      "會(D)\n",
      "很(Dfa)\n",
      "順利(VH)\n",
      "通過(VC)\n",
      "參議院(Nc)\n",
      "支持(VC)\n",
      "，(COMMACATEGORY)\n",
      "成為(VG)\n",
      "該(Nes)\n",
      "國(Nc)\n",
      "有史以來(D)\n",
      "第一(Neu)\n",
      "位(Nf)\n",
      "的(DE)\n",
      "華裔(Na)\n",
      "女性(Na)\n",
      "內閣(Na)\n",
      "成員(Na)\n",
      "。(PERIODCATEGORY)\n",
      "\n",
      "\n",
      "Named Entity Recognition:\n",
      "(0, 2, 'GPE', '美國')\n",
      "(2, 5, 'ORG', '參議院')\n",
      "(7, 9, 'DATE', '今天')\n",
      "(11, 13, 'PERSON', '布什')\n",
      "(17, 21, 'ORG', '勞工部長')\n",
      "(21, 24, 'PERSON', '趙小蘭')\n",
      "(42, 45, 'ORG', '參議院')\n",
      "(56, 58, 'ORDINAL', '第一')\n",
      "(60, 62, 'NORP', '華裔')\n",
      "\n",
      "\n",
      "Input sentence: \n",
      " \n",
      "\n",
      "\n",
      "Segmentation with PoS: \n",
      "\n",
      "\n",
      "\n",
      "Named Entity Recognition:\n",
      "\n",
      "\n",
      "Input sentence: \n",
      " 土地公有政策?？還是土地婆有政策。.\n",
      "\n",
      "\n",
      "Segmentation with PoS: \n",
      "\n",
      "土地公(Nb)\n",
      "有(V_2)\n",
      "政策(Na)\n",
      "?(QUESTIONCATEGORY)\n",
      "？(QUESTIONCATEGORY)\n",
      "還是(Caa)\n",
      "土地(Na)\n",
      "婆(Na)\n",
      "有(V_2)\n",
      "政策(Na)\n",
      "。(PERIODCATEGORY)\n",
      ".(PERIODCATEGORY)\n",
      "\n",
      "\n",
      "Named Entity Recognition:\n",
      "(0, 3, 'PERSON', '土地公')\n",
      "\n",
      "\n",
      "Input sentence: \n",
      " … 你確定嗎… 不要再騙了……\n",
      "\n",
      "\n",
      "Segmentation with PoS: \n",
      "\n",
      "…(ETCCATEGORY)\n",
      " (WHITESPACE)\n",
      "你(Nh)\n",
      "確定(VK)\n",
      "嗎(T)\n",
      "…(ETCCATEGORY)\n",
      " (WHITESPACE)\n",
      "不要(D)\n",
      "再(D)\n",
      "騙(VC)\n",
      "了(Di)\n",
      "…(ETCCATEGORY)\n",
      "…(ETCCATEGORY)\n",
      "\n",
      "\n",
      "Named Entity Recognition:\n",
      "\n",
      "\n",
      "Input sentence: \n",
      " 最多容納59,000個人,或5.9萬人,再多就不行了.這是環評的結論.\n",
      "\n",
      "\n",
      "Segmentation with PoS: \n",
      "\n",
      "最多(VH)\n",
      "容納(VJ)\n",
      "59,000(Neu)\n",
      "個(Nf)\n",
      "人(Na)\n",
      ",(COMMACATEGORY)\n",
      "或(Caa)\n",
      "5.9萬(Neu)\n",
      "人(Na)\n",
      ",(COMMACATEGORY)\n",
      "再(D)\n",
      "多(D)\n",
      "就(D)\n",
      "不行(VH)\n",
      "了(T)\n",
      ".(PERIODCATEGORY)\n",
      "這(Nep)\n",
      "是(SHI)\n",
      "環評(Na)\n",
      "的(DE)\n",
      "結論(Na)\n",
      ".(PERIODCATEGORY)\n",
      "\n",
      "\n",
      "Named Entity Recognition:\n",
      "(4, 10, 'CARDINAL', '59,000')\n",
      "(14, 18, 'CARDINAL', '5.9萬')\n",
      "\n",
      "\n",
      "Input sentence: \n",
      " 科長說:1,坪數對人數為1:3。2,可以再增加。\n",
      "\n",
      "\n",
      "Segmentation with PoS: \n",
      "\n",
      "科長(Na)\n",
      "說(VE)\n",
      ":1,(Neu)\n",
      "坪數(Na)\n",
      "對(P)\n",
      "人數(Na)\n",
      "為(VG)\n",
      "1:3(Neu)\n",
      "。(PERIODCATEGORY)\n",
      "2(Neu)\n",
      ",(COMMACATEGORY)\n",
      "可以(D)\n",
      "再(D)\n",
      "增加(VHC)\n",
      "。(PERIODCATEGORY)\n",
      "\n",
      "\n",
      "Named Entity Recognition:\n",
      "(4, 6, 'CARDINAL', '1,')\n",
      "(12, 13, 'CARDINAL', '1')\n",
      "(14, 15, 'CARDINAL', '3')\n",
      "(16, 17, 'CARDINAL', '2')\n",
      "\n",
      "\n"
     ]
    }
   ],
   "source": [
    "#合併顯示輸出結果\n",
    "def combine_wandp(word_s, word_p):\n",
    "    assert len(word_s) == len(word_p)\n",
    "    \n",
    "    for w, p in zip(word_s, word_p):\n",
    "        print(f'{w}({p})')\n",
    "        \n",
    "for i, sentence in enumerate(sentence_list):\n",
    "    print(f'Input sentence: \\n {sentence}')\n",
    "    print('\\n')\n",
    "    \n",
    "    print(f'Segmentation with PoS: \\n')\n",
    "    combine_wandp(word_s[i], word_p[i])\n",
    "    \n",
    "    print ('\\n')\n",
    "    print('Named Entity Recognition:')\n",
    "    for n in sorted(word_n[i]):\n",
    "        print (n)\n",
    "    print ('\\n')"
   ]
  },
  {
   "cell_type": "markdown",
   "metadata": {},
   "source": [
    "### 帶入自定義字典\n",
    "\n",
    "觀察上面的輸出發現，斷詞結果將`年前`斷為`年`、`前`, 請使用自定義字典使斷詞結果依然維持為`年前`"
   ]
  },
  {
   "cell_type": "code",
   "execution_count": 7,
   "metadata": {},
   "outputs": [],
   "source": [
    "#定義字典\n",
    "word_to_weight = {\n",
    "    \"年前\": 1\n",
    "}\n",
    "dictionary = construct_dictionary(word_to_weight)"
   ]
  },
  {
   "cell_type": "code",
   "execution_count": 8,
   "metadata": {},
   "outputs": [
    {
     "name": "stdout",
     "output_type": "stream",
     "text": [
      "[['傅達仁', '今', '將', '執行', '安樂死', '，', '卻', '突然', '爆出', '自己', '20', '年前', '遭', '緯來', '體育台', '封殺', '，', '他', '不', '懂', '自己', '哪裡', '得罪到', '電視台', '。']]\n"
     ]
    }
   ],
   "source": [
    "#帶入自定義字典進行斷詞\n",
    "input_traditional_str = [\"傅達仁今將執行安樂死，卻突然爆出自己20年前遭緯來體育台封殺，他不懂自己哪裡得罪到電視台。\"]\n",
    "\n",
    "word_sentence_list = ws(input_traditional_str, \n",
    "                        recommend_dictionary = dictionary)\n",
    "\n",
    "\n",
    "print(word_sentence_list)"
   ]
  },
  {
   "cell_type": "code",
   "execution_count": null,
   "metadata": {},
   "outputs": [],
   "source": []
  }
 ],
 "metadata": {
  "kernelspec": {
   "display_name": "Python 3",
   "language": "python",
   "name": "python3"
  },
  "language_info": {
   "codemirror_mode": {
    "name": "ipython",
    "version": 3
   },
   "file_extension": ".py",
   "mimetype": "text/x-python",
   "name": "python",
   "nbconvert_exporter": "python",
   "pygments_lexer": "ipython3",
   "version": "3.7.4"
  },
  "varInspector": {
   "cols": {
    "lenName": 16,
    "lenType": 16,
    "lenVar": 40
   },
   "kernels_config": {
    "python": {
     "delete_cmd_postfix": "",
     "delete_cmd_prefix": "del ",
     "library": "var_list.py",
     "varRefreshCmd": "print(var_dic_list())"
    },
    "r": {
     "delete_cmd_postfix": ") ",
     "delete_cmd_prefix": "rm(",
     "library": "var_list.r",
     "varRefreshCmd": "cat(var_dic_list()) "
    }
   },
   "types_to_exclude": [
    "module",
    "function",
    "builtin_function_or_method",
    "instance",
    "_Feature"
   ],
   "window_display": false
  }
 },
 "nbformat": 4,
 "nbformat_minor": 2
}
